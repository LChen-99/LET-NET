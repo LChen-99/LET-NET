{
 "cells": [
  {
   "cell_type": "code",
   "execution_count": null,
   "metadata": {},
   "outputs": [
    {
     "ename": "",
     "evalue": "",
     "output_type": "error",
     "traceback": [
      "\u001b[1;31m运行具有“pytorch”的单元格需要ipykernel包。\n",
      "\u001b[1;31mRun the following command to install 'ipykernel' into the Python environment. \n",
      "\u001b[1;31mCommand: 'conda install -n pytorch ipykernel --update-deps --force-reinstall'"
     ]
    }
   ],
   "source": [
    "import onnxruntime as ort\n",
    "import numpy as np\n",
    "from PIL import Image\n",
    "import cv2\n"
   ]
  },
  {
   "cell_type": "code",
   "execution_count": null,
   "metadata": {},
   "outputs": [
    {
     "ename": "",
     "evalue": "",
     "output_type": "error",
     "traceback": [
      "\u001b[1;31m运行具有“pytorch”的单元格需要ipykernel包。\n",
      "\u001b[1;31mRun the following command to install 'ipykernel' into the Python environment. \n",
      "\u001b[1;31mCommand: 'conda install -n pytorch ipykernel --update-deps --force-reinstall'"
     ]
    }
   ],
   "source": [
    "# 加载 ONNX 模型\n",
    "onnx_model_path = \"/home/caia/lc_ws/LET/LET-NET/superpoint_240_320.onnx\"\n",
    "# onnx_model_path = \"./models/superpoint_detector.onnx\"\n",
    "providers = ['TensorrtExecutionProvider', 'CUDAExecutionProvider', 'CPUExecutionProvider']\n",
    "session = ort.InferenceSession(onnx_model_path, providers=providers)\n",
    "# 查看输入和输出节点的名称\n",
    "print(\"input size = :\", len(session.get_inputs()))\n",
    "print(\"output size = :\", len(session.get_outputs()))\n",
    "input_name = session.get_inputs()[0].name\n",
    "output_name = session.get_outputs()[0].name\n",
    "print(input_name)\n",
    "print(output_name)\n",
    "# 定义图像文件路径\n",
    "# image_file_path = \"/home/xreal/xreal/HF/hfnet/doc/demo/db1.jpg\""
   ]
  },
  {
   "cell_type": "code",
   "execution_count": null,
   "metadata": {},
   "outputs": [
    {
     "ename": "",
     "evalue": "",
     "output_type": "error",
     "traceback": [
      "\u001b[1;31m运行具有“pytorch”的单元格需要ipykernel包。\n",
      "\u001b[1;31mRun the following command to install 'ipykernel' into the Python environment. \n",
      "\u001b[1;31mCommand: 'conda install -n pytorch ipykernel --update-deps --force-reinstall'"
     ]
    }
   ],
   "source": [
    "\n",
    "# 使用PIL库加载图像，并进行预处理，使其适合模型输入\n",
    "def preprocess_image(image_file_path, target_shape):\n",
    "    image = Image.open(image_file_path).convert(\"L\")\n",
    "    image = image.resize(target_shape, Image.BILINEAR)\n",
    "    image_array = np.array(image).astype(np.float32)\n",
    "    image_array = np.expand_dims(image_array, axis=0)  # 添加批处理维度 (1, height, width, channels)\n",
    "    image_array = np.expand_dims(image_array, axis=0)\n",
    "    return image_array"
   ]
  },
  {
   "cell_type": "code",
   "execution_count": null,
   "metadata": {},
   "outputs": [
    {
     "ename": "",
     "evalue": "",
     "output_type": "error",
     "traceback": [
      "\u001b[1;31m运行具有“pytorch”的单元格需要ipykernel包。\n",
      "\u001b[1;31mRun the following command to install 'ipykernel' into the Python environment. \n",
      "\u001b[1;31mCommand: 'conda install -n pytorch ipykernel --update-deps --force-reinstall'"
     ]
    }
   ],
   "source": [
    "import time\n",
    "# 设置目标图像大小，与模型输入的大小相匹配\n",
    "target_shape = (320, 240)\n",
    "# 预处理图像\n",
    "times = 2\n",
    "total_time = 0\n",
    "resize_time = 0\n",
    "for i in range(times):\n",
    "    image = np.random.random([240, 320, 1]) * 255\n",
    "    # start_time = time.time()\n",
    "    # image = cv2.resize(image, (480, 752))\n",
    "    # end_time = time.time()\n",
    "    # resize_time += end_time - start_time\n",
    "    input =  np.reshape(image.astype(np.float32), (1, 240, 320, 1))\n",
    "    # input_data = preprocess_image(image_file_path, target_shape)\n",
    "    \n",
    "    start_time = time.time()\n",
    "    output_data = session.run([output_name], {input_name: input})\n",
    "    print(output_data)\n",
    "    end_time = time.time()\n",
    "    total_time += end_time - start_time\n",
    "print(resize_time / times)\n",
    "print(total_time / times)\n",
    "# 输出结果\n",
    "# print(\"Output shape:\", output_data[0].shape)\n",
    "# print(\"Output data:\", output_data[0])"
   ]
  }
 ],
 "metadata": {
  "kernelspec": {
   "display_name": "tf1.12",
   "language": "python",
   "name": "python3"
  },
  "language_info": {
   "codemirror_mode": {
    "name": "ipython",
    "version": 3
   },
   "file_extension": ".py",
   "mimetype": "text/x-python",
   "name": "python",
   "nbconvert_exporter": "python",
   "pygments_lexer": "ipython3",
   "version": "3.7.16"
  },
  "orig_nbformat": 4
 },
 "nbformat": 4,
 "nbformat_minor": 2
}
